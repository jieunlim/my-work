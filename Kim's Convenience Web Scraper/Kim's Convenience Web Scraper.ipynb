{
 "cells": [
  {
   "cell_type": "markdown",
   "metadata": {},
   "source": [
    "Inspired by Kim's Convenience, a Canadian television sitcom about the misadventures of a Korean-Canadian family running a convenience store, I would like to create a data set of websites from Google on Kim's Convenience, in which would contain the followings:\n",
    "-  websites' urls\n",
    "-  images (urls) --max. amount of 5\n",
    "-  sentences containing the main characters of the show --max. amount of 100\n",
    "-  no. of outgoing links \n",
    "-  website last-modified (from header)\n"
   ]
  },
  {
   "cell_type": "code",
   "execution_count": 58,
   "metadata": {},
   "outputs": [],
   "source": [
    "#Import packages\n",
    "import json\n",
    "import requests\n",
    "from bs4 import BeautifulSoup\n",
    "import re\n",
    "from nltk.tokenize import sent_tokenize, word_tokenize\n",
    "import random\n",
    "import pandas as pd \n",
    "import numpy as np"
   ]
  },
  {
   "cell_type": "code",
   "execution_count": 29,
   "metadata": {
    "scrolled": true
   },
   "outputs": [
    {
     "name": "stdout",
     "output_type": "stream",
     "text": [
      "['https://en.wikipedia.org/wiki/Kim%27s_Convenience', 'https://en.wikipedia.org/wiki/List_of_Kim%27s_Convenience_episodes', 'https://en.wikipedia.org/wiki/Kim%27s_Convenience_(play)', 'https://en.wikipedia.org/wiki/Andrea_Bang', 'https://en.wikipedia.org/wiki/Paul_Sun-Hyung_Lee', 'https://www.netflix.com/title/80199128', 'https://www.imdb.com/title/tt5912064/', 'https://www.cbc.ca/kimsconvenience/m_site/', 'https://twitter.com/KimsConvenience?ref_src=twsrc%5Egoogle%7Ctwcamp%5Eserp%7Ctwgr%5Eauthor', 'https://twitter.com/KimsConvenience/status/1313588471282401281?ref_src=twsrc%5Egoogle%7Ctwcamp%5Eserp%7Ctwgr%5Etweet', 'https://twitter.com/KimsConvenience/status/1313196444917137408?ref_src=twsrc%5Egoogle%7Ctwcamp%5Eserp%7Ctwgr%5Etweet', 'https://twitter.com/KimsConvenience/status/1312810724025159681?ref_src=twsrc%5Egoogle%7Ctwcamp%5Eserp%7Ctwgr%5Etweet', 'https://www.youtube.com/watch?v=7_BT3jdkUPg', 'https://www.npr.org/2019/01/09/682888290/kim-s-convenience-is-a-sitcom-about-asian-immigrants-with-depth', 'https://www.rottentomatoes.com/tv/kims_convenience', 'https://www.newyorker.com/recommends/watch/kims-convenience-the-genial-canadian-sitcom-that-feels-like-watching-another-time-line', 'https://www.theguardian.com/culture/2020/jul/24/kims-convenience-a-charming-wholesome-and-understated-corner-store-comedy', 'https://www.dailytargum.com/article/2020/04/kims-convenience-review', 'https://ew.com/tv/kims-convenience-season-4-netflix-premiere-date/', 'https://www.facebook.com/kimsconvenience/']\n"
     ]
    }
   ],
   "source": [
    "#Use Google Search API\n",
    "try: \n",
    "    from googlesearch import search \n",
    "except ImportError:  \n",
    "    print(\"No module named 'google' found\") \n",
    "  \n",
    "# keyword to search\n",
    "keyword = \"Kim's Convenience\"\n",
    "\n",
    "#create an empty list for the urls\n",
    "Kim_Convenience_urls = []\n",
    "\n",
    "#Gather 20 urls and add them to the urls list\n",
    "for j in search(keyword, tld=\"com\", lang='en', num=20, stop=20, pause=2): \n",
    "    Kim_Convenience_urls.append(j)\n",
    "\n",
    "#print the url list\n",
    "print(Kim_Convenience_urls) "
   ]
  },
  {
   "cell_type": "code",
   "execution_count": 30,
   "metadata": {},
   "outputs": [
    {
     "name": "stdout",
     "output_type": "stream",
     "text": [
      "[['//upload.wikimedia.org/wikipedia/commons/thumb/c/c3/Kim%27s_Convenience_logo.svg/250px-Kim%27s_Convenience_logo.svg.png', '//upload.wikimedia.org/wikipedia/commons/thumb/9/98/Kim%27s_convenience_toronto.jpg/332px-Kim%27s_convenience_toronto.jpg', '//upload.wikimedia.org/wikipedia/commons/thumb/8/8c/Blank_television_set.svg/32px-Blank_television_set.svg.png', '//upload.wikimedia.org/wikipedia/en/thumb/c/cf/Flag_of_Canada.svg/32px-Flag_of_Canada.svg.png', '//upload.wikimedia.org/wikipedia/en/thumb/4/4a/Commons-logo.svg/30px-Commons-logo.svg.png', '/static/images/footer/wikimedia-button.png', '/static/images/footer/poweredby_mediawiki_88x31.png'], ['/static/images/footer/wikimedia-button.png', '/static/images/footer/poweredby_mediawiki_88x31.png'], ['/static/images/footer/wikimedia-button.png', '/static/images/footer/poweredby_mediawiki_88x31.png'], ['//upload.wikimedia.org/wikipedia/en/thumb/8/8a/OOjs_UI_icon_edit-ltr-progressive.svg/10px-OOjs_UI_icon_edit-ltr-progressive.svg.png', '//upload.wikimedia.org/wikipedia/commons/thumb/9/97/Canada_film_clapperboard.svg/30px-Canada_film_clapperboard.svg.png', '/static/images/footer/wikimedia-button.png', '/static/images/footer/poweredby_mediawiki_88x31.png'], ['//upload.wikimedia.org/wikipedia/commons/thumb/3/33/Paul_Sun-Hyung_Lee_-b.jpg/220px-Paul_Sun-Hyung_Lee_-b.jpg', '//upload.wikimedia.org/wikipedia/en/thumb/8/8a/OOjs_UI_icon_edit-ltr-progressive.svg/10px-OOjs_UI_icon_edit-ltr-progressive.svg.png', '/static/images/footer/wikimedia-button.png', '/static/images/footer/poweredby_mediawiki_88x31.png']]\n"
     ]
    }
   ],
   "source": [
    "# Get image links from each of the urls above\n",
    "image_urls = []\n",
    "\n",
    "for i in Kim_Convenience_urls:\n",
    "    source = requests.get(i).text\n",
    "    bs = BeautifulSoup(source, 'html.parser')\n",
    "    images = bs.find_all('img', {'src':re.compile('([-\\w]+\\.(?:jpg|jpeg|png))')})\n",
    "    links = []\n",
    "    for image in images: \n",
    "        links.append(image['src'])\n",
    "    image_urls.append(links)\n",
    "    \n",
    "print(image_urls[:5])"
   ]
  },
  {
   "cell_type": "code",
   "execution_count": 31,
   "metadata": {},
   "outputs": [
    {
     "name": "stdout",
     "output_type": "stream",
     "text": [
      "[['Other characters include Jung', 'Mr. Kim is traditional, proud and stubborn, practical, opinionated and blunt.', 'He is 56 years old at the start of the series and estranged from his son Jung, a frayed relationship he gradually attempts to mend beginning in Season 2.', 'She is the family member in most frequent contact with Jung.', ' as Jung Kim, 24 at the start of the series.', 'Mr. and Mrs. Kim', 'Jung works at Handy Car Rental, where he is promoted to assistant manager at the beginning of the series but returns to his former job after an attempt at moving to another company is scuttled.', 'He was kicked out of the family home by Mr. Kim after stealing from him and remains estranged from his father, though he is still in contact with the rest of the family, and gradually reconnects with his father over the course of the series.', 'Jung', 'He is promoted to assistant manager after Jung initially leaves Handy Car Rental at the end of Season 2, now serving as his superior.', 'The manager of Handy Car Rental, and Jung and Kimchee', 'He is intimidated by Mr. Kim and has awkward interactions with him.', 'He and Janet later become roommates after Janet moves out from home in season 2.', 'Mr. Kim is almost always annoyed by this.', 'She parents her five-year-old son with little discipline, and holds Janet', 'He considers Mr. Kim his friend, but this is unrequited.', 'Moves in with Gerald and Janet in season 3.', 'Raj breaks off their engagement near the end of the season in the hopes of winning Janet back, whom he still has feelings for.', 'She has a brief flirtation with her boss Jung but rejects him when it becomes clear that he is still hung up on Shannon.'], ['Additional characters include Jung', 'nAfter being accused of homophobia, Appa creates a gay discount during Pride.', 'Meanwhile, Umma tries to find a', 'Meanwhile, Jung decides to apply for a promotion at the car rental agency, to the dismay of Kimchee and Umma, though for different reasons.', 'Jung ends up getting the promotion to be Assistant Manager.', 'Mr. Kim commissions Janet', 'Chin asks Mr. Kim to be his wingman on a date, which is fine until Mrs. Kim tags along.', 'Janet asks Jung to help her fix a dripping pipe at the store, but the repair is interrupted by an intruder.', 'After the intruder leaves, a police officer enters the store and mistakenly believes that Jung is the thief, and cuffs him.', ' later arrives and vouches for Jung, as they were childhood friends.', 'Alex becomes reacquainted with Janet, who both appear smitten with each other.', 'Kim scolds Janet', 'Janet tries to stay in her teacher', 'Jung discovers Kimchee is making extra money by moonlighting for a carsharing company, illicitly using Handy Car Rental cars.', 'Jung runs into Grace Lee', 'Jung and Grace rekindle their high school romance.', 'and Mrs. Kim', 'Janet dates Jung', ' Mr. Kim gets attention for his new SUV.', 'Jung is surprised to learn that Shannon has a  new boyfriend, Alejandro,', 'nAppa and Umma encourage Janet to stay home when her plans to move in with Gerald and Semira hit a snag.', 'Kimchee tells Jung to make a move on Shannon, but her relationship with Alejandro shows no sign of ending.', 'nAn award comes between Appa and Umma.', 'Janet and Gerald have their first argument as roommates.', 'After a night with Janet and her college friends, Jung is worried he might not be that bright.', 'nAppa is ambivalent when Umma brings home a lifesized cardboard cutout of Jung made by Handy Car Rental as a promotion.', 'Janet', 'nAppa is pressured to make his date night with Umma more special.', 'Jung looks online to replace Kimchee', 's side business, while Janet assumes a new identity accidentally on purpose when she tries to get into a film festival after party.', 'When Umma offers the store', 'Janet gets tired of being the good one and feels unappreciated when Umma and Appa celebrate Jung', 'Jung struggles to tell Shannon that he', 'Jung learns more about Shannon', 'Janet meets one of her photography idols, asking for her contact information in hopes that she', 'However, once Gerald finds out wanting to reach out to her as well, Janet becomes devious.', 'Janet feels that she insulted a waitress at Chelsea', 'Jung tries to persuade Kimchee and Shannon to join him for skydiving.', 'Umma is surprised by Kimchee listing her as his emergency contact, but gets even more surprised when she finds out how many of her own family members have not chosen her as their emergency contact.', 'Appa lectures Janet about borrowing his drill.', 'Kimchee struggles to prepare a presentation for work but resents Jung', 'Jung accidentally runs over Kimchee', 'Appa gets Pastor Nina to divulge if her T-Ball team won.', 's mother coming for a visit, Kimchee tries to hide all evidence of his friendship with Jung, whom his mother despises.', 'Janet gets Gerald on a shortlist for a photography scholarship, which requires a letter of recommendation.', 'Appa volunteers to write one - which is fiercely critical - but Janet intercedes, and Gerald is willing to join Appa and sacrifice his scholarship to prove her manipulativeness.', 'Mr. Kim joins Facebook.', 'Mr. Mehta hires Janet to take his son Raj', 'Appa and Umma look forward to their Cuban vacation until they accidentally invite the Lees to join them.', 'Appa and Umma hire Mrs. Ada to do housecleaning, then suspect her of gossiping about them.', 'The Handy staff do impressions of one another but Jung goes too far when the regional manager comes to visit.', ', and gets bombarded with conflicting advice from both Shannon and Jung about what to do, especially after seeing Terence confirming a date with her.', 'Janet retaliates when Umma throws out her childhood keepsakes, while Mr. Kim takes Mr. Mehta', 'Appa tries to give Umma advice about her annoying habit, but regrets it.', 'Janet takes Gerald to the emergency room when his appendix flares up, not expecting the ER doctor to be her ex, Raj.', 'Jung auditions for the Astounding Trek reality show with Kimchee, but doesn', 'Umma', 'After Appa fails to object to Jimmy', 'Janet tries to turn the tables on Gerald after she finds out he and Chelsea have been making fun of her, and ends up getting far closer to Chelsea than she', 'Jung tries to get Shannon', 'Janet and Jung join a yoga class taught by her crush, Nathan.', 'Raj breaks up with his fiancee in hopes of getting back together with Janet, but he may be too late.', 'Mr. Kim tries to return an expensive dress.', 'nWhen a water pipe bursts in their apartment, Jung goes to stay with Janet and Kimchee stays with the Kims.', 'Janet gets defensive when Jung accuses her of being', 'Kimchee becomes the fall guy for Appa', 'nJanet plans a surprise anniversary dinner for Umma to be held with Jung and Appa - their first full family dinner in fifteen years - but her coverups backfire when Umma goes elsewhere in disinterest.', 'Shannon wants to keep her relationship with Jung a secret.', 'nJanet wants to get a tattoo.', 'Umma gossips about Pastor Nina.', 'Jung and Shannon exchange five-week-iversary gifts.', 's feelings are hurt when Janet tells him she lied about a high school trip.', 'Umma is tasked with telling Mrs. Mehta she', 'Appa lets slip a secret about Janet, and Janet decides to tell the truth, though Umma wishes she wouldn', 'nAppa gets annoyed when he learns Umma has made plans for her life after his death.', 'Janet  gets an internship in Tanzania and realizes she', 'Shannon needs a roommate and Jung thinks she wants him to move in.'], ['Mr. Kim hopes the store will provide a future for his daughter, Janet, whom he hopes will take over the store from him when he retires', ' son, Jung, ran away from home when he was 16 after Appa had hit him and he was hospitalized for a few days.', 'After Jung was released, everything seemed to be back to normal until one day, Appa went to get the money from the safe and it was empty and so was Jung', 'Since then, Appa hasn', 't spoken to Jung, though Umma maintains surreptitious contact with him by meeting him at the church.'], [], ['In 2006, he took the role of Jung Park in the']]\n"
     ]
    }
   ],
   "source": [
    "# Find sentences that contain any of the main characters of Kim's Convenience from each of the websites\n",
    "sentences_list = []\n",
    "keys = ['Mr. Kim', 'Appa', 'Mrs. Kim', 'Umma', 'Jung', 'Janet']\n",
    "\n",
    "for i in Kim_Convenience_urls:\n",
    "    source = requests.get(i)\n",
    "    sentences = []\n",
    "    text_blobs = re.findall(\"[a-zA-Z0-9 .,-]+\", str(source.content))\n",
    "    for text_blob in text_blobs:\n",
    "        # sentences must have at least one space; filtering for sentences with one or more space\n",
    "      if \" \" not in text_blob:\n",
    "        continue\n",
    "      sents = sent_tokenize(str(text_blob)) \n",
    "      if len(sents) < 2:\n",
    "        continue \n",
    "      for sent in sents:\n",
    "        k = [ w for w in keys if w in sent ]\n",
    "        # only keeping the sentences that contain at least one of the keywords\n",
    "        if len(k) > 0: \n",
    "            sentences.append(sent) \n",
    "    sentences_list.append(sentences)\n",
    "\n",
    "\n",
    "print(sentences_list[:5])"
   ]
  },
  {
   "cell_type": "code",
   "execution_count": 32,
   "metadata": {},
   "outputs": [
    {
     "name": "stdout",
     "output_type": "stream",
     "text": [
      "[19, 19, 5, 4, 2]\n"
     ]
    }
   ],
   "source": [
    "# find number of outgoing links in each of the websites\n",
    "outgoing_link_count = []\n",
    "\n",
    "for i in Kim_Convenience_urls:\n",
    "    source = requests.get(i).text\n",
    "    bs = BeautifulSoup(source, 'html.parser')\n",
    "    count = 0\n",
    "    for link in bs.findAll('a', attrs={'href': re.compile(\"^http://\")}):\n",
    "        count += 1\n",
    "        \n",
    "    outgoing_link_count.append(count)\n",
    "    \n",
    "print(outgoing_link_count[:5])"
   ]
  },
  {
   "cell_type": "code",
   "execution_count": 33,
   "metadata": {},
   "outputs": [
    {
     "name": "stdout",
     "output_type": "stream",
     "text": [
      "['Mon, 05 Oct 2020 02:58:57 GMT', 'Mon, 05 Oct 2020 02:58:56 GMT', 'Wed, 23 Sep 2020 02:04:53 GMT', 'Wed, 30 Sep 2020 10:13:25 GMT', 'Sun, 04 Oct 2020 11:04:04 GMT', '?', '?', '?', 'Wed, 07 Oct 2020 06:36:46 GMT', 'Wed, 07 Oct 2020 06:36:46 GMT', 'Wed, 07 Oct 2020 06:36:46 GMT', 'Wed, 07 Oct 2020 06:36:46 GMT', '?', '?', '?', '?', '?', '?', '?', '?']\n"
     ]
    }
   ],
   "source": [
    "# find the each of the websites' last-modified (from header)\n",
    "last_modified_list = []\n",
    "for i in Kim_Convenience_urls:\n",
    "    r = requests.get(i, stream=True, allow_redirects=True)\n",
    "    header = r.headers\n",
    "    #check to see if there's the \"last-Modified\" key in the header\n",
    "    if \"Last-Modified\" in header:\n",
    "        url_time = r.headers[\"Last-Modified\"]\n",
    "    #we would mark it as \"?\" if there's no \"last-Modified\" in the header\n",
    "    else:\n",
    "        url_time = \"?\"\n",
    "    last_modified_list.append(url_time)\n",
    "\n",
    "print(last_modified_list)"
   ]
  },
  {
   "cell_type": "code",
   "execution_count": 34,
   "metadata": {
    "scrolled": true
   },
   "outputs": [
    {
     "name": "stdout",
     "output_type": "stream",
     "text": [
      "[{'Images': ['//upload.wikimedia.org/wikipedia/commons/thumb/c/c3/Kim%27s_Convenience_logo.svg/250px-Kim%27s_Convenience_logo.svg.png', '//upload.wikimedia.org/wikipedia/commons/thumb/9/98/Kim%27s_convenience_toronto.jpg/332px-Kim%27s_convenience_toronto.jpg', '//upload.wikimedia.org/wikipedia/commons/thumb/8/8c/Blank_television_set.svg/32px-Blank_television_set.svg.png', '//upload.wikimedia.org/wikipedia/en/thumb/c/cf/Flag_of_Canada.svg/32px-Flag_of_Canada.svg.png', '//upload.wikimedia.org/wikipedia/en/thumb/4/4a/Commons-logo.svg/30px-Commons-logo.svg.png', '/static/images/footer/wikimedia-button.png', '/static/images/footer/poweredby_mediawiki_88x31.png'], 'Sentences': ['Other characters include Jung', 'Mr. Kim is traditional, proud and stubborn, practical, opinionated and blunt.', 'He is 56 years old at the start of the series and estranged from his son Jung, a frayed relationship he gradually attempts to mend beginning in Season 2.', 'She is the family member in most frequent contact with Jung.', ' as Jung Kim, 24 at the start of the series.', 'Mr. and Mrs. Kim', 'Jung works at Handy Car Rental, where he is promoted to assistant manager at the beginning of the series but returns to his former job after an attempt at moving to another company is scuttled.', 'He was kicked out of the family home by Mr. Kim after stealing from him and remains estranged from his father, though he is still in contact with the rest of the family, and gradually reconnects with his father over the course of the series.', 'Jung', 'He is promoted to assistant manager after Jung initially leaves Handy Car Rental at the end of Season 2, now serving as his superior.', 'The manager of Handy Car Rental, and Jung and Kimchee', 'He is intimidated by Mr. Kim and has awkward interactions with him.', 'He and Janet later become roommates after Janet moves out from home in season 2.', 'Mr. Kim is almost always annoyed by this.', 'She parents her five-year-old son with little discipline, and holds Janet', 'He considers Mr. Kim his friend, but this is unrequited.', 'Moves in with Gerald and Janet in season 3.', 'Raj breaks off their engagement near the end of the season in the hopes of winning Janet back, whom he still has feelings for.', 'She has a brief flirtation with her boss Jung but rejects him when it becomes clear that he is still hung up on Shannon.'], 'num_outgoing_links': 19, 'website_last_modified': 'Mon, 05 Oct 2020 02:58:57 GMT'}, {'Images': ['/static/images/footer/wikimedia-button.png', '/static/images/footer/poweredby_mediawiki_88x31.png'], 'Sentences': ['Additional characters include Jung', 'nAfter being accused of homophobia, Appa creates a gay discount during Pride.', 'Meanwhile, Umma tries to find a', 'Meanwhile, Jung decides to apply for a promotion at the car rental agency, to the dismay of Kimchee and Umma, though for different reasons.', 'Jung ends up getting the promotion to be Assistant Manager.', 'Mr. Kim commissions Janet', 'Chin asks Mr. Kim to be his wingman on a date, which is fine until Mrs. Kim tags along.', 'Janet asks Jung to help her fix a dripping pipe at the store, but the repair is interrupted by an intruder.', 'After the intruder leaves, a police officer enters the store and mistakenly believes that Jung is the thief, and cuffs him.', ' later arrives and vouches for Jung, as they were childhood friends.', 'Alex becomes reacquainted with Janet, who both appear smitten with each other.', 'Kim scolds Janet', 'Janet tries to stay in her teacher', 'Jung discovers Kimchee is making extra money by moonlighting for a carsharing company, illicitly using Handy Car Rental cars.', 'Jung runs into Grace Lee', 'Jung and Grace rekindle their high school romance.', 'and Mrs. Kim', 'Janet dates Jung', ' Mr. Kim gets attention for his new SUV.', 'Jung is surprised to learn that Shannon has a  new boyfriend, Alejandro,', 'nAppa and Umma encourage Janet to stay home when her plans to move in with Gerald and Semira hit a snag.', 'Kimchee tells Jung to make a move on Shannon, but her relationship with Alejandro shows no sign of ending.', 'nAn award comes between Appa and Umma.', 'Janet and Gerald have their first argument as roommates.', 'After a night with Janet and her college friends, Jung is worried he might not be that bright.', 'nAppa is ambivalent when Umma brings home a lifesized cardboard cutout of Jung made by Handy Car Rental as a promotion.', 'Janet', 'nAppa is pressured to make his date night with Umma more special.', 'Jung looks online to replace Kimchee', 's side business, while Janet assumes a new identity accidentally on purpose when she tries to get into a film festival after party.', 'When Umma offers the store', 'Janet gets tired of being the good one and feels unappreciated when Umma and Appa celebrate Jung', 'Jung struggles to tell Shannon that he', 'Jung learns more about Shannon', 'Janet meets one of her photography idols, asking for her contact information in hopes that she', 'However, once Gerald finds out wanting to reach out to her as well, Janet becomes devious.', 'Janet feels that she insulted a waitress at Chelsea', 'Jung tries to persuade Kimchee and Shannon to join him for skydiving.', 'Umma is surprised by Kimchee listing her as his emergency contact, but gets even more surprised when she finds out how many of her own family members have not chosen her as their emergency contact.', 'Appa lectures Janet about borrowing his drill.', 'Kimchee struggles to prepare a presentation for work but resents Jung', 'Jung accidentally runs over Kimchee', 'Appa gets Pastor Nina to divulge if her T-Ball team won.', 's mother coming for a visit, Kimchee tries to hide all evidence of his friendship with Jung, whom his mother despises.', 'Janet gets Gerald on a shortlist for a photography scholarship, which requires a letter of recommendation.', 'Appa volunteers to write one - which is fiercely critical - but Janet intercedes, and Gerald is willing to join Appa and sacrifice his scholarship to prove her manipulativeness.', 'Mr. Kim joins Facebook.', 'Mr. Mehta hires Janet to take his son Raj', 'Appa and Umma look forward to their Cuban vacation until they accidentally invite the Lees to join them.', 'Appa and Umma hire Mrs. Ada to do housecleaning, then suspect her of gossiping about them.', 'The Handy staff do impressions of one another but Jung goes too far when the regional manager comes to visit.', ', and gets bombarded with conflicting advice from both Shannon and Jung about what to do, especially after seeing Terence confirming a date with her.', 'Janet retaliates when Umma throws out her childhood keepsakes, while Mr. Kim takes Mr. Mehta', 'Appa tries to give Umma advice about her annoying habit, but regrets it.', 'Janet takes Gerald to the emergency room when his appendix flares up, not expecting the ER doctor to be her ex, Raj.', 'Jung auditions for the Astounding Trek reality show with Kimchee, but doesn', 'Umma', 'After Appa fails to object to Jimmy', 'Janet tries to turn the tables on Gerald after she finds out he and Chelsea have been making fun of her, and ends up getting far closer to Chelsea than she', 'Jung tries to get Shannon', 'Janet and Jung join a yoga class taught by her crush, Nathan.', 'Raj breaks up with his fiancee in hopes of getting back together with Janet, but he may be too late.', 'Mr. Kim tries to return an expensive dress.', 'nWhen a water pipe bursts in their apartment, Jung goes to stay with Janet and Kimchee stays with the Kims.', 'Janet gets defensive when Jung accuses her of being', 'Kimchee becomes the fall guy for Appa', 'nJanet plans a surprise anniversary dinner for Umma to be held with Jung and Appa - their first full family dinner in fifteen years - but her coverups backfire when Umma goes elsewhere in disinterest.', 'Shannon wants to keep her relationship with Jung a secret.', 'nJanet wants to get a tattoo.', 'Umma gossips about Pastor Nina.', 'Jung and Shannon exchange five-week-iversary gifts.', 's feelings are hurt when Janet tells him she lied about a high school trip.', 'Umma is tasked with telling Mrs. Mehta she', 'Appa lets slip a secret about Janet, and Janet decides to tell the truth, though Umma wishes she wouldn', 'nAppa gets annoyed when he learns Umma has made plans for her life after his death.', 'Janet  gets an internship in Tanzania and realizes she', 'Shannon needs a roommate and Jung thinks she wants him to move in.'], 'num_outgoing_links': 19, 'website_last_modified': 'Mon, 05 Oct 2020 02:58:56 GMT'}]\n"
     ]
    }
   ],
   "source": [
    "# create the initial JSON_list\n",
    "JSON_list = []\n",
    "for i in range(0,20):\n",
    "    JSON = {\n",
    "        \"Images\":image_urls[i],\n",
    "        \"Sentences\":sentences_list[i],\n",
    "        \"num_outgoing_links\":outgoing_link_count[i],\n",
    "        \"website_last_modified\":last_modified_list[i]\n",
    "    }\n",
    "    \n",
    "    JSON_list.append(JSON)\n",
    "    \n",
    "print(JSON_list[:2])"
   ]
  },
  {
   "cell_type": "code",
   "execution_count": 35,
   "metadata": {},
   "outputs": [],
   "source": [
    "# will use this function to determine how many columns for sentences & images; \n",
    "# will need to downsize if they go above our desire limit (100 for sentences; 5 for images)\n",
    "def find_max_list(list):\n",
    "    list_len = [len(i) for i in list]\n",
    "    print('No. of items: %d' % max(list_len))\n",
    "    for x in list_len:\n",
    "        if x == max(list_len):\n",
    "            print('Index of this list:', list_len.index(x))"
   ]
  },
  {
   "cell_type": "code",
   "execution_count": 36,
   "metadata": {},
   "outputs": [
    {
     "name": "stdout",
     "output_type": "stream",
     "text": [
      "No. of items: 65\n",
      "Index of this list: 5\n"
     ]
    }
   ],
   "source": [
    "# take a look at the longest list in image_urls\n",
    "find_max_list(image_urls)"
   ]
  },
  {
   "cell_type": "code",
   "execution_count": 37,
   "metadata": {},
   "outputs": [
    {
     "name": "stdout",
     "output_type": "stream",
     "text": [
      "No. of items: 90\n",
      "Index of this list: 5\n"
     ]
    }
   ],
   "source": [
    "# take a look at the longest list in sentences_list\n",
    "find_max_list(sentences_list)"
   ]
  },
  {
   "cell_type": "markdown",
   "metadata": {},
   "source": [
    "The longest list in image_urls has a length of 65; we would need to downsize at least 1 list in image part to our desired amount, 5.\n",
    "<br> The longest list in sentences_list has a length of 90, which is within the our desired amount, 100; we would not need to perform downsizing on the sentence part."
   ]
  },
  {
   "cell_type": "code",
   "execution_count": 38,
   "metadata": {
    "scrolled": true
   },
   "outputs": [
    {
     "name": "stdout",
     "output_type": "stream",
     "text": [
      "List(s) in image_urls exceeding length of 5:\n",
      "Index of this list: 0\n",
      "Length of this list: 7 \n",
      "\n",
      "Index of this list: 5\n",
      "Length of this list: 65 \n",
      "\n",
      "Index of this list: 6\n",
      "Length of this list: 43 \n",
      "\n",
      "Index of this list: 7\n",
      "Length of this list: 11 \n",
      "\n",
      "Index of this list: 13\n",
      "Length of this list: 14 \n",
      "\n",
      "Index of this list: 14\n",
      "Length of this list: 10 \n",
      "\n",
      "Index of this list: 19\n",
      "Length of this list: 51 \n",
      "\n"
     ]
    }
   ],
   "source": [
    "# take a look at the list(s) in image_urls that exceed the length of 5\n",
    "list_len = [len(i) for i in image_urls]\n",
    "image_longer = []\n",
    "print('List(s) in image_urls exceeding length of 5:')\n",
    "for x in list_len:\n",
    "    if x > 5:\n",
    "            print('Index of this list:', list_len.index(x))\n",
    "            print('Length of this list: %d \\n' % x)\n",
    "            image_longer.append(list_len.index(x))"
   ]
  },
  {
   "cell_type": "code",
   "execution_count": 39,
   "metadata": {},
   "outputs": [],
   "source": [
    "#create a new downsized JSON object\n",
    "JSON_list_downsized = JSON_list\n",
    "\n",
    "# downsize the image lists that are over the length of 5\n",
    "for i in range(0,20):\n",
    "    if len(JSON_list_downsized[i]['Images']) >5:\n",
    "        while len(JSON_list_downsized[i]['Images']) >5:\n",
    "            a = len(JSON_list_downsized[i]['Images'])\n",
    "            #randomly select the items to delete\n",
    "            e = random.choice(range(0, a))\n",
    "            del JSON_list_downsized[i]['Images'][e]"
   ]
  },
  {
   "cell_type": "code",
   "execution_count": 40,
   "metadata": {},
   "outputs": [],
   "source": [
    "# append the image lists with \"?\" if their length is under 5\n",
    "for i in range(0,20):\n",
    "    if len(JSON_list_downsized[i]['Images'])  < 5:\n",
    "        while len(JSON_list_downsized[i]['Images']) < 5:\n",
    "            a = \"?\"\n",
    "            JSON_list_downsized[i]['Images'].append(a)"
   ]
  },
  {
   "cell_type": "code",
   "execution_count": 41,
   "metadata": {
    "scrolled": true
   },
   "outputs": [
    {
     "name": "stdout",
     "output_type": "stream",
     "text": [
      "All image list parts have a length of 5\n"
     ]
    }
   ],
   "source": [
    "#check if all 20 of the image list parts have been downsized/upsized to 5 (the length should now be 5)\n",
    "ok_count = 0\n",
    "for i in range(0,20):\n",
    "    if len(JSON_list_downsized[i]['Images']) != 5:\n",
    "        print('Index(s): \\n')\n",
    "        print(i)\n",
    "    else:\n",
    "        ok_count += 1\n",
    "        \n",
    "if ok_count == 20:\n",
    "        print('All image list parts have a length of 5')"
   ]
  },
  {
   "cell_type": "code",
   "execution_count": 42,
   "metadata": {},
   "outputs": [
    {
     "data": {
      "text/html": [
       "<div>\n",
       "<style scoped>\n",
       "    .dataframe tbody tr th:only-of-type {\n",
       "        vertical-align: middle;\n",
       "    }\n",
       "\n",
       "    .dataframe tbody tr th {\n",
       "        vertical-align: top;\n",
       "    }\n",
       "\n",
       "    .dataframe thead th {\n",
       "        text-align: right;\n",
       "    }\n",
       "</style>\n",
       "<table border=\"1\" class=\"dataframe\">\n",
       "  <thead>\n",
       "    <tr style=\"text-align: right;\">\n",
       "      <th></th>\n",
       "      <th>Images</th>\n",
       "      <th>Sentences</th>\n",
       "      <th>num_outgoing_links</th>\n",
       "      <th>website_last_modified</th>\n",
       "    </tr>\n",
       "  </thead>\n",
       "  <tbody>\n",
       "    <tr>\n",
       "      <th>0</th>\n",
       "      <td>[//upload.wikimedia.org/wikipedia/commons/thum...</td>\n",
       "      <td>[Other characters include Jung, Mr. Kim is tra...</td>\n",
       "      <td>19</td>\n",
       "      <td>Mon, 05 Oct 2020 02:58:57 GMT</td>\n",
       "    </tr>\n",
       "    <tr>\n",
       "      <th>1</th>\n",
       "      <td>[/static/images/footer/wikimedia-button.png, /...</td>\n",
       "      <td>[Additional characters include Jung, nAfter be...</td>\n",
       "      <td>19</td>\n",
       "      <td>Mon, 05 Oct 2020 02:58:56 GMT</td>\n",
       "    </tr>\n",
       "    <tr>\n",
       "      <th>2</th>\n",
       "      <td>[/static/images/footer/wikimedia-button.png, /...</td>\n",
       "      <td>[Mr. Kim hopes the store will provide a future...</td>\n",
       "      <td>5</td>\n",
       "      <td>Wed, 23 Sep 2020 02:04:53 GMT</td>\n",
       "    </tr>\n",
       "  </tbody>\n",
       "</table>\n",
       "</div>"
      ],
      "text/plain": [
       "                                              Images  \\\n",
       "0  [//upload.wikimedia.org/wikipedia/commons/thum...   \n",
       "1  [/static/images/footer/wikimedia-button.png, /...   \n",
       "2  [/static/images/footer/wikimedia-button.png, /...   \n",
       "\n",
       "                                           Sentences  num_outgoing_links  \\\n",
       "0  [Other characters include Jung, Mr. Kim is tra...                  19   \n",
       "1  [Additional characters include Jung, nAfter be...                  19   \n",
       "2  [Mr. Kim hopes the store will provide a future...                   5   \n",
       "\n",
       "           website_last_modified  \n",
       "0  Mon, 05 Oct 2020 02:58:57 GMT  \n",
       "1  Mon, 05 Oct 2020 02:58:56 GMT  \n",
       "2  Wed, 23 Sep 2020 02:04:53 GMT  "
      ]
     },
     "execution_count": 42,
     "metadata": {},
     "output_type": "execute_result"
    }
   ],
   "source": [
    "# flatten the downsized json object\n",
    "tocsv = pd.json_normalize(JSON_list_downsized)\n",
    "tocsv.head(3)"
   ]
  },
  {
   "cell_type": "code",
   "execution_count": 43,
   "metadata": {
    "scrolled": false
   },
   "outputs": [],
   "source": [
    "# flatten the json object in a better fashion (flat by sentences)\n",
    "def flatten_json(json):\n",
    "    out = {}\n",
    "\n",
    "    def flatten(x, name=''):\n",
    "        if isinstance(x, dict):\n",
    "            for a in x:\n",
    "                flatten(x[a], name + a + '_')\n",
    "        elif type(x) is list:\n",
    "            i = 1\n",
    "            for a in x:\n",
    "                flatten(a, name + str(i) + '_')\n",
    "                i += 1\n",
    "        else:\n",
    "            out[name[:-1]] = x\n",
    "\n",
    "    flatten(json)\n",
    "    return out\n"
   ]
  },
  {
   "cell_type": "code",
   "execution_count": 44,
   "metadata": {
    "scrolled": true
   },
   "outputs": [
    {
     "name": "stdout",
     "output_type": "stream",
     "text": [
      "[{'Sentence': 'Other characters include Jung', 'Images_1': '//upload.wikimedia.org/wikipedia/commons/thumb/c/c3/Kim%27s_Convenience_logo.svg/250px-Kim%27s_Convenience_logo.svg.png', 'Images_2': '//upload.wikimedia.org/wikipedia/commons/thumb/9/98/Kim%27s_convenience_toronto.jpg/332px-Kim%27s_convenience_toronto.jpg', 'Images_3': '//upload.wikimedia.org/wikipedia/commons/thumb/8/8c/Blank_television_set.svg/32px-Blank_television_set.svg.png', 'Images_4': '//upload.wikimedia.org/wikipedia/en/thumb/c/cf/Flag_of_Canada.svg/32px-Flag_of_Canada.svg.png', 'Images_5': '//upload.wikimedia.org/wikipedia/en/thumb/4/4a/Commons-logo.svg/30px-Commons-logo.svg.png', 'num_outgoing_links': 19, 'website_last_modified': 'Mon, 05 Oct 2020 02:58:57 GMT'}, {'Sentence': 'Mr. Kim is traditional, proud and stubborn, practical, opinionated and blunt.', 'Images_1': '//upload.wikimedia.org/wikipedia/commons/thumb/c/c3/Kim%27s_Convenience_logo.svg/250px-Kim%27s_Convenience_logo.svg.png', 'Images_2': '//upload.wikimedia.org/wikipedia/commons/thumb/9/98/Kim%27s_convenience_toronto.jpg/332px-Kim%27s_convenience_toronto.jpg', 'Images_3': '//upload.wikimedia.org/wikipedia/commons/thumb/8/8c/Blank_television_set.svg/32px-Blank_television_set.svg.png', 'Images_4': '//upload.wikimedia.org/wikipedia/en/thumb/c/cf/Flag_of_Canada.svg/32px-Flag_of_Canada.svg.png', 'Images_5': '//upload.wikimedia.org/wikipedia/en/thumb/4/4a/Commons-logo.svg/30px-Commons-logo.svg.png', 'num_outgoing_links': 19, 'website_last_modified': 'Mon, 05 Oct 2020 02:58:57 GMT'}, {'Sentence': 'He is 56 years old at the start of the series and estranged from his son Jung, a frayed relationship he gradually attempts to mend beginning in Season 2.', 'Images_1': '//upload.wikimedia.org/wikipedia/commons/thumb/c/c3/Kim%27s_Convenience_logo.svg/250px-Kim%27s_Convenience_logo.svg.png', 'Images_2': '//upload.wikimedia.org/wikipedia/commons/thumb/9/98/Kim%27s_convenience_toronto.jpg/332px-Kim%27s_convenience_toronto.jpg', 'Images_3': '//upload.wikimedia.org/wikipedia/commons/thumb/8/8c/Blank_television_set.svg/32px-Blank_television_set.svg.png', 'Images_4': '//upload.wikimedia.org/wikipedia/en/thumb/c/cf/Flag_of_Canada.svg/32px-Flag_of_Canada.svg.png', 'Images_5': '//upload.wikimedia.org/wikipedia/en/thumb/4/4a/Commons-logo.svg/30px-Commons-logo.svg.png', 'num_outgoing_links': 19, 'website_last_modified': 'Mon, 05 Oct 2020 02:58:57 GMT'}, {'Sentence': 'She is the family member in most frequent contact with Jung.', 'Images_1': '//upload.wikimedia.org/wikipedia/commons/thumb/c/c3/Kim%27s_Convenience_logo.svg/250px-Kim%27s_Convenience_logo.svg.png', 'Images_2': '//upload.wikimedia.org/wikipedia/commons/thumb/9/98/Kim%27s_convenience_toronto.jpg/332px-Kim%27s_convenience_toronto.jpg', 'Images_3': '//upload.wikimedia.org/wikipedia/commons/thumb/8/8c/Blank_television_set.svg/32px-Blank_television_set.svg.png', 'Images_4': '//upload.wikimedia.org/wikipedia/en/thumb/c/cf/Flag_of_Canada.svg/32px-Flag_of_Canada.svg.png', 'Images_5': '//upload.wikimedia.org/wikipedia/en/thumb/4/4a/Commons-logo.svg/30px-Commons-logo.svg.png', 'num_outgoing_links': 19, 'website_last_modified': 'Mon, 05 Oct 2020 02:58:57 GMT'}, {'Sentence': ' as Jung Kim, 24 at the start of the series.', 'Images_1': '//upload.wikimedia.org/wikipedia/commons/thumb/c/c3/Kim%27s_Convenience_logo.svg/250px-Kim%27s_Convenience_logo.svg.png', 'Images_2': '//upload.wikimedia.org/wikipedia/commons/thumb/9/98/Kim%27s_convenience_toronto.jpg/332px-Kim%27s_convenience_toronto.jpg', 'Images_3': '//upload.wikimedia.org/wikipedia/commons/thumb/8/8c/Blank_television_set.svg/32px-Blank_television_set.svg.png', 'Images_4': '//upload.wikimedia.org/wikipedia/en/thumb/c/cf/Flag_of_Canada.svg/32px-Flag_of_Canada.svg.png', 'Images_5': '//upload.wikimedia.org/wikipedia/en/thumb/4/4a/Commons-logo.svg/30px-Commons-logo.svg.png', 'num_outgoing_links': 19, 'website_last_modified': 'Mon, 05 Oct 2020 02:58:57 GMT'}]\n"
     ]
    }
   ],
   "source": [
    "a = 0\n",
    "JSON_list_final = []\n",
    "for i in JSON_list_downsized:\n",
    "  for j in i['Sentences']:\n",
    "      if(j == '?'):\n",
    "        continue\n",
    "\n",
    "      JSON = {\n",
    "      \"Sentence\":j,\n",
    "      \"Images\":JSON_list_downsized[a]['Images'],\n",
    "      \"num_outgoing_links\":JSON_list_downsized[a]['num_outgoing_links'],\n",
    "      \"website_last_modified\":JSON_list_downsized[a]['website_last_modified']\n",
    "      }\n",
    "      JSON = flatten_json(JSON)\n",
    "      JSON_list_final.append(JSON)\n",
    "  a = a + 1\n",
    "\n",
    "print(JSON_list_final[:5])\n"
   ]
  },
  {
   "cell_type": "code",
   "execution_count": 45,
   "metadata": {},
   "outputs": [
    {
     "data": {
      "text/plain": [
       "241"
      ]
     },
     "execution_count": 45,
     "metadata": {},
     "output_type": "execute_result"
    }
   ],
   "source": [
    "len(JSON_list_final)"
   ]
  },
  {
   "cell_type": "code",
   "execution_count": 46,
   "metadata": {},
   "outputs": [
    {
     "data": {
      "text/html": [
       "<div>\n",
       "<style scoped>\n",
       "    .dataframe tbody tr th:only-of-type {\n",
       "        vertical-align: middle;\n",
       "    }\n",
       "\n",
       "    .dataframe tbody tr th {\n",
       "        vertical-align: top;\n",
       "    }\n",
       "\n",
       "    .dataframe thead th {\n",
       "        text-align: right;\n",
       "    }\n",
       "</style>\n",
       "<table border=\"1\" class=\"dataframe\">\n",
       "  <thead>\n",
       "    <tr style=\"text-align: right;\">\n",
       "      <th></th>\n",
       "      <th>Sentence</th>\n",
       "      <th>Images_1</th>\n",
       "      <th>Images_2</th>\n",
       "      <th>Images_3</th>\n",
       "      <th>Images_4</th>\n",
       "      <th>Images_5</th>\n",
       "      <th>num_outgoing_links</th>\n",
       "      <th>website_last_modified</th>\n",
       "    </tr>\n",
       "  </thead>\n",
       "  <tbody>\n",
       "    <tr>\n",
       "      <th>0</th>\n",
       "      <td>Other characters include Jung</td>\n",
       "      <td>//upload.wikimedia.org/wikipedia/commons/thumb...</td>\n",
       "      <td>//upload.wikimedia.org/wikipedia/commons/thumb...</td>\n",
       "      <td>//upload.wikimedia.org/wikipedia/commons/thumb...</td>\n",
       "      <td>//upload.wikimedia.org/wikipedia/en/thumb/c/cf...</td>\n",
       "      <td>//upload.wikimedia.org/wikipedia/en/thumb/4/4a...</td>\n",
       "      <td>19</td>\n",
       "      <td>Mon, 05 Oct 2020 02:58:57 GMT</td>\n",
       "    </tr>\n",
       "    <tr>\n",
       "      <th>1</th>\n",
       "      <td>Mr. Kim is traditional, proud and stubborn, pr...</td>\n",
       "      <td>//upload.wikimedia.org/wikipedia/commons/thumb...</td>\n",
       "      <td>//upload.wikimedia.org/wikipedia/commons/thumb...</td>\n",
       "      <td>//upload.wikimedia.org/wikipedia/commons/thumb...</td>\n",
       "      <td>//upload.wikimedia.org/wikipedia/en/thumb/c/cf...</td>\n",
       "      <td>//upload.wikimedia.org/wikipedia/en/thumb/4/4a...</td>\n",
       "      <td>19</td>\n",
       "      <td>Mon, 05 Oct 2020 02:58:57 GMT</td>\n",
       "    </tr>\n",
       "    <tr>\n",
       "      <th>2</th>\n",
       "      <td>He is 56 years old at the start of the series ...</td>\n",
       "      <td>//upload.wikimedia.org/wikipedia/commons/thumb...</td>\n",
       "      <td>//upload.wikimedia.org/wikipedia/commons/thumb...</td>\n",
       "      <td>//upload.wikimedia.org/wikipedia/commons/thumb...</td>\n",
       "      <td>//upload.wikimedia.org/wikipedia/en/thumb/c/cf...</td>\n",
       "      <td>//upload.wikimedia.org/wikipedia/en/thumb/4/4a...</td>\n",
       "      <td>19</td>\n",
       "      <td>Mon, 05 Oct 2020 02:58:57 GMT</td>\n",
       "    </tr>\n",
       "    <tr>\n",
       "      <th>3</th>\n",
       "      <td>She is the family member in most frequent cont...</td>\n",
       "      <td>//upload.wikimedia.org/wikipedia/commons/thumb...</td>\n",
       "      <td>//upload.wikimedia.org/wikipedia/commons/thumb...</td>\n",
       "      <td>//upload.wikimedia.org/wikipedia/commons/thumb...</td>\n",
       "      <td>//upload.wikimedia.org/wikipedia/en/thumb/c/cf...</td>\n",
       "      <td>//upload.wikimedia.org/wikipedia/en/thumb/4/4a...</td>\n",
       "      <td>19</td>\n",
       "      <td>Mon, 05 Oct 2020 02:58:57 GMT</td>\n",
       "    </tr>\n",
       "    <tr>\n",
       "      <th>4</th>\n",
       "      <td>as Jung Kim, 24 at the start of the series.</td>\n",
       "      <td>//upload.wikimedia.org/wikipedia/commons/thumb...</td>\n",
       "      <td>//upload.wikimedia.org/wikipedia/commons/thumb...</td>\n",
       "      <td>//upload.wikimedia.org/wikipedia/commons/thumb...</td>\n",
       "      <td>//upload.wikimedia.org/wikipedia/en/thumb/c/cf...</td>\n",
       "      <td>//upload.wikimedia.org/wikipedia/en/thumb/4/4a...</td>\n",
       "      <td>19</td>\n",
       "      <td>Mon, 05 Oct 2020 02:58:57 GMT</td>\n",
       "    </tr>\n",
       "  </tbody>\n",
       "</table>\n",
       "</div>"
      ],
      "text/plain": [
       "                                            Sentence  \\\n",
       "0                      Other characters include Jung   \n",
       "1  Mr. Kim is traditional, proud and stubborn, pr...   \n",
       "2  He is 56 years old at the start of the series ...   \n",
       "3  She is the family member in most frequent cont...   \n",
       "4        as Jung Kim, 24 at the start of the series.   \n",
       "\n",
       "                                            Images_1  \\\n",
       "0  //upload.wikimedia.org/wikipedia/commons/thumb...   \n",
       "1  //upload.wikimedia.org/wikipedia/commons/thumb...   \n",
       "2  //upload.wikimedia.org/wikipedia/commons/thumb...   \n",
       "3  //upload.wikimedia.org/wikipedia/commons/thumb...   \n",
       "4  //upload.wikimedia.org/wikipedia/commons/thumb...   \n",
       "\n",
       "                                            Images_2  \\\n",
       "0  //upload.wikimedia.org/wikipedia/commons/thumb...   \n",
       "1  //upload.wikimedia.org/wikipedia/commons/thumb...   \n",
       "2  //upload.wikimedia.org/wikipedia/commons/thumb...   \n",
       "3  //upload.wikimedia.org/wikipedia/commons/thumb...   \n",
       "4  //upload.wikimedia.org/wikipedia/commons/thumb...   \n",
       "\n",
       "                                            Images_3  \\\n",
       "0  //upload.wikimedia.org/wikipedia/commons/thumb...   \n",
       "1  //upload.wikimedia.org/wikipedia/commons/thumb...   \n",
       "2  //upload.wikimedia.org/wikipedia/commons/thumb...   \n",
       "3  //upload.wikimedia.org/wikipedia/commons/thumb...   \n",
       "4  //upload.wikimedia.org/wikipedia/commons/thumb...   \n",
       "\n",
       "                                            Images_4  \\\n",
       "0  //upload.wikimedia.org/wikipedia/en/thumb/c/cf...   \n",
       "1  //upload.wikimedia.org/wikipedia/en/thumb/c/cf...   \n",
       "2  //upload.wikimedia.org/wikipedia/en/thumb/c/cf...   \n",
       "3  //upload.wikimedia.org/wikipedia/en/thumb/c/cf...   \n",
       "4  //upload.wikimedia.org/wikipedia/en/thumb/c/cf...   \n",
       "\n",
       "                                            Images_5  num_outgoing_links  \\\n",
       "0  //upload.wikimedia.org/wikipedia/en/thumb/4/4a...                  19   \n",
       "1  //upload.wikimedia.org/wikipedia/en/thumb/4/4a...                  19   \n",
       "2  //upload.wikimedia.org/wikipedia/en/thumb/4/4a...                  19   \n",
       "3  //upload.wikimedia.org/wikipedia/en/thumb/4/4a...                  19   \n",
       "4  //upload.wikimedia.org/wikipedia/en/thumb/4/4a...                  19   \n",
       "\n",
       "           website_last_modified  \n",
       "0  Mon, 05 Oct 2020 02:58:57 GMT  \n",
       "1  Mon, 05 Oct 2020 02:58:57 GMT  \n",
       "2  Mon, 05 Oct 2020 02:58:57 GMT  \n",
       "3  Mon, 05 Oct 2020 02:58:57 GMT  \n",
       "4  Mon, 05 Oct 2020 02:58:57 GMT  "
      ]
     },
     "execution_count": 46,
     "metadata": {},
     "output_type": "execute_result"
    }
   ],
   "source": [
    "# covert the optimized json object \"JSON_list_final\" and export as csv\n",
    "tocsv = pd.json_normalize(JSON_list_final)\n",
    "tocsv.head(5)"
   ]
  },
  {
   "cell_type": "code",
   "execution_count": 47,
   "metadata": {},
   "outputs": [],
   "source": [
    "# export as csv\n",
    "tocsv.to_csv('Web Scraping_KimsConvenience_Google.csv')"
   ]
  }
 ],
 "metadata": {
  "kernelspec": {
   "display_name": "Python 3",
   "language": "python",
   "name": "python3"
  },
  "language_info": {
   "codemirror_mode": {
    "name": "ipython",
    "version": 3
   },
   "file_extension": ".py",
   "mimetype": "text/x-python",
   "name": "python",
   "nbconvert_exporter": "python",
   "pygments_lexer": "ipython3",
   "version": "3.7.6"
  },
  "varInspector": {
   "cols": {
    "lenName": 16,
    "lenType": 16,
    "lenVar": 40
   },
   "kernels_config": {
    "python": {
     "delete_cmd_postfix": "",
     "delete_cmd_prefix": "del ",
     "library": "var_list.py",
     "varRefreshCmd": "print(var_dic_list())"
    },
    "r": {
     "delete_cmd_postfix": ") ",
     "delete_cmd_prefix": "rm(",
     "library": "var_list.r",
     "varRefreshCmd": "cat(var_dic_list()) "
    }
   },
   "types_to_exclude": [
    "module",
    "function",
    "builtin_function_or_method",
    "instance",
    "_Feature"
   ],
   "window_display": false
  }
 },
 "nbformat": 4,
 "nbformat_minor": 4
}
